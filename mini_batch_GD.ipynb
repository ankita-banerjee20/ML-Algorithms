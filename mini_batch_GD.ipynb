{
 "cells": [
  {
   "cell_type": "markdown",
   "metadata": {},
   "source": [
    "#### **Importing Necessary Libraries**"
   ]
  },
  {
   "cell_type": "code",
   "execution_count": 1,
   "metadata": {},
   "outputs": [],
   "source": [
    "import numpy as np\n",
    "from sklearn.datasets import make_regression\n",
    "from sklearn.model_selection import train_test_split"
   ]
  },
  {
   "cell_type": "markdown",
   "metadata": {},
   "source": [
    "#### **Generating Dataset**"
   ]
  },
  {
   "cell_type": "code",
   "execution_count": 2,
   "metadata": {},
   "outputs": [],
   "source": [
    "X, y = make_regression(n_samples=200, n_features=2, n_targets=1)"
   ]
  },
  {
   "cell_type": "code",
   "execution_count": 3,
   "metadata": {},
   "outputs": [
    {
     "data": {
      "text/plain": [
       "array([[-1.00267051,  1.67100783],\n",
       "       [-0.38199627, -0.68749395],\n",
       "       [ 0.59363469, -2.11805585],\n",
       "       [-1.04405782,  1.27081343],\n",
       "       [ 1.18987679, -2.43198201]])"
      ]
     },
     "execution_count": 3,
     "metadata": {},
     "output_type": "execute_result"
    }
   ],
   "source": [
    "X[:5]"
   ]
  },
  {
   "cell_type": "code",
   "execution_count": 4,
   "metadata": {},
   "outputs": [
    {
     "data": {
      "text/plain": [
       "array([ 20.99413282, -76.62795733, -84.56867327,  -8.12465848,\n",
       "       -53.60923811])"
      ]
     },
     "execution_count": 4,
     "metadata": {},
     "output_type": "execute_result"
    }
   ],
   "source": [
    "y[:5]"
   ]
  },
  {
   "cell_type": "markdown",
   "metadata": {},
   "source": [
    "#### **Train-Test Split**"
   ]
  },
  {
   "cell_type": "code",
   "execution_count": 5,
   "metadata": {},
   "outputs": [],
   "source": [
    "X_train, X_test, y_train, y_test = train_test_split(X, y, test_size=0.2)"
   ]
  },
  {
   "cell_type": "code",
   "execution_count": 6,
   "metadata": {},
   "outputs": [
    {
     "data": {
      "text/plain": [
       "(160, 2)"
      ]
     },
     "execution_count": 6,
     "metadata": {},
     "output_type": "execute_result"
    }
   ],
   "source": [
    "X_train.shape"
   ]
  },
  {
   "cell_type": "code",
   "execution_count": 7,
   "metadata": {},
   "outputs": [
    {
     "data": {
      "text/plain": [
       "(160,)"
      ]
     },
     "execution_count": 7,
     "metadata": {},
     "output_type": "execute_result"
    }
   ],
   "source": [
    "y_train.shape"
   ]
  },
  {
   "cell_type": "markdown",
   "metadata": {},
   "source": [
    "#### **GD Regressor**"
   ]
  },
  {
   "cell_type": "code",
   "execution_count": 15,
   "metadata": {},
   "outputs": [],
   "source": [
    "class GDRegressor():\n",
    "    def __init__(self, epoch, learning_rate, batch_size):\n",
    "        self.coef = None\n",
    "        self.intercept = None\n",
    "        self.epoch = epoch\n",
    "        self.learning_rate = learning_rate\n",
    "        self.batch_size = batch_size\n",
    "\n",
    "    def fit(self, X_train, y_train):\n",
    "        self.coef = np.ones(X_train.shape[1])\n",
    "        self.intercept = 0\n",
    "\n",
    "        for i in range(self.epoch):\n",
    "            np.random.shuffle(X_train)\n",
    "            n_mini_batches = int(np.ceil(X_train.shape[0] / self.batch_size))\n",
    "\n",
    "            for j in range(n_mini_batches):\n",
    "                X_mini = X_train[j * self.batch_size : (j + 1) * self.batch_size, :]\n",
    "                y_mini = y_train[j * self.batch_size : (j + 1) * self.batch_size]\n",
    "\n",
    "                y_pred = np.dot(X_mini, self.coef) + self.intercept\n",
    "\n",
    "                intercept_der = -2 * np.mean(y_mini - y_pred)\n",
    "                self.intercept = self.intercept - (self.learning_rate * intercept_der)\n",
    "\n",
    "                coef_der = -2 * np.mean(np.dot((y_mini - y_pred), X_mini))\n",
    "                self.coef = self.coef - (self.learning_rate * coef_der)\n",
    "\n",
    "    def predict(self, X_test):\n",
    "        return np.dot(X_test, self.coef) + self.intercept"
   ]
  },
  {
   "cell_type": "markdown",
   "metadata": {},
   "source": [
    "#### **Model Fit**"
   ]
  },
  {
   "cell_type": "code",
   "execution_count": 16,
   "metadata": {},
   "outputs": [],
   "source": [
    "model = GDRegressor(epoch=10, learning_rate=0.01, batch_size=10)\n",
    "model.fit(X_train, y_train)"
   ]
  },
  {
   "cell_type": "markdown",
   "metadata": {},
   "source": [
    "#### **Prediction**"
   ]
  },
  {
   "cell_type": "code",
   "execution_count": 18,
   "metadata": {},
   "outputs": [
    {
     "data": {
      "text/plain": [
       "array([ -9.78258938, -15.10565647,  14.7203861 , -17.49939048,\n",
       "         5.021559  ,  -2.07114435,   8.20119922,   7.55347194,\n",
       "        -7.70856298,   2.03382539, -28.23156498,  -7.74964811,\n",
       "       -24.01310027,  17.35058495,  -1.83391093, -14.99788026,\n",
       "        -2.92879437,   4.49263276, -23.48080893, -25.54845165,\n",
       "       -16.46866806, -13.82213719, -29.25567457, -23.58405837,\n",
       "       -17.78829938, -14.18704484, -15.63851509, -33.50635063,\n",
       "         0.57109329, -22.10857675, -12.96655429,   4.05542962,\n",
       "       -38.24700193,  21.93088897, -10.28866032, -13.82746033,\n",
       "       -22.26688841, -13.35292198,  -8.82119519,  -9.50628404])"
      ]
     },
     "execution_count": 18,
     "metadata": {},
     "output_type": "execute_result"
    }
   ],
   "source": [
    "model.predict(X_test)"
   ]
  },
  {
   "cell_type": "code",
   "execution_count": 20,
   "metadata": {},
   "outputs": [
    {
     "name": "stdout",
     "output_type": "stream",
     "text": [
      "Coefficients: [-8.35241573 -8.35241573]\n",
      "Intercept: -9.523425314360397\n"
     ]
    }
   ],
   "source": [
    "print(f'Coefficients: {model.coef}')\n",
    "print(f'Intercept: {model.intercept}')"
   ]
  },
  {
   "cell_type": "code",
   "execution_count": null,
   "metadata": {},
   "outputs": [],
   "source": []
  }
 ],
 "metadata": {
  "kernelspec": {
   "display_name": "Python 3",
   "language": "python",
   "name": "python3"
  },
  "language_info": {
   "codemirror_mode": {
    "name": "ipython",
    "version": 3
   },
   "file_extension": ".py",
   "mimetype": "text/x-python",
   "name": "python",
   "nbconvert_exporter": "python",
   "pygments_lexer": "ipython3",
   "version": "3.11.5"
  }
 },
 "nbformat": 4,
 "nbformat_minor": 2
}
